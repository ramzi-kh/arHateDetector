{
  "nbformat": 4,
  "nbformat_minor": 0,
  "metadata": {
    "colab": {
      "provenance": []
    },
    "kernelspec": {
      "name": "python3",
      "display_name": "Python 3"
    },
    "language_info": {
      "name": "python"
    }
  },
  "cells": [
    {
      "cell_type": "markdown",
      "source": [
        "#Tweets collection uisng API"
      ],
      "metadata": {
        "id": "1RsHFxaJ8F_V"
      }
    },
    {
      "cell_type": "code",
      "source": [
        "%pip install --upgrade twarc\n"
      ],
      "metadata": {
        "colab": {
          "base_uri": "https://localhost:8080/"
        },
        "id": "g4V9Q_tD86py",
        "outputId": "a70d2934-9b04-4987-9719-20084f5c5051"
      },
      "execution_count": null,
      "outputs": [
        {
          "output_type": "stream",
          "name": "stdout",
          "text": [
            "Looking in indexes: https://pypi.org/simple, https://us-python.pkg.dev/colab-wheels/public/simple/\n",
            "Collecting twarc\n",
            "  Downloading twarc-2.11.3-py3-none-any.whl (60 kB)\n",
            "\u001b[K     |████████████████████████████████| 60 kB 3.4 MB/s \n",
            "\u001b[?25hRequirement already satisfied: requests-oauthlib>=1.3 in /usr/local/lib/python3.7/dist-packages (from twarc) (1.3.1)\n",
            "Collecting humanize>=3.9\n",
            "  Downloading humanize-4.4.0-py3-none-any.whl (106 kB)\n",
            "\u001b[K     |████████████████████████████████| 106 kB 10.4 MB/s \n",
            "\u001b[?25hRequirement already satisfied: click<9,>=7 in /usr/local/lib/python3.7/dist-packages (from twarc) (7.1.2)\n",
            "Requirement already satisfied: tqdm>=4.62 in /usr/local/lib/python3.7/dist-packages (from twarc) (4.64.1)\n",
            "Collecting click-plugins>=1\n",
            "  Downloading click_plugins-1.1.1-py2.py3-none-any.whl (7.5 kB)\n",
            "Collecting click-config-file>=0.6\n",
            "  Downloading click_config_file-0.6.0-py2.py3-none-any.whl (6.0 kB)\n",
            "Requirement already satisfied: python-dateutil>=2.8 in /usr/local/lib/python3.7/dist-packages (from twarc) (2.8.2)\n",
            "Collecting configobj>=5.0.6\n",
            "  Downloading configobj-5.0.6.tar.gz (33 kB)\n",
            "Requirement already satisfied: six in /usr/local/lib/python3.7/dist-packages (from configobj>=5.0.6->click-config-file>=0.6->twarc) (1.15.0)\n",
            "Requirement already satisfied: importlib-metadata in /usr/local/lib/python3.7/dist-packages (from humanize>=3.9->twarc) (4.12.0)\n",
            "Requirement already satisfied: requests>=2.0.0 in /usr/local/lib/python3.7/dist-packages (from requests-oauthlib>=1.3->twarc) (2.23.0)\n",
            "Requirement already satisfied: oauthlib>=3.0.0 in /usr/local/lib/python3.7/dist-packages (from requests-oauthlib>=1.3->twarc) (3.2.0)\n",
            "Requirement already satisfied: idna<3,>=2.5 in /usr/local/lib/python3.7/dist-packages (from requests>=2.0.0->requests-oauthlib>=1.3->twarc) (2.10)\n",
            "Requirement already satisfied: chardet<4,>=3.0.2 in /usr/local/lib/python3.7/dist-packages (from requests>=2.0.0->requests-oauthlib>=1.3->twarc) (3.0.4)\n",
            "Requirement already satisfied: urllib3!=1.25.0,!=1.25.1,<1.26,>=1.21.1 in /usr/local/lib/python3.7/dist-packages (from requests>=2.0.0->requests-oauthlib>=1.3->twarc) (1.24.3)\n",
            "Requirement already satisfied: certifi>=2017.4.17 in /usr/local/lib/python3.7/dist-packages (from requests>=2.0.0->requests-oauthlib>=1.3->twarc) (2022.6.15)\n",
            "Requirement already satisfied: typing-extensions>=3.6.4 in /usr/local/lib/python3.7/dist-packages (from importlib-metadata->humanize>=3.9->twarc) (4.1.1)\n",
            "Requirement already satisfied: zipp>=0.5 in /usr/local/lib/python3.7/dist-packages (from importlib-metadata->humanize>=3.9->twarc) (3.8.1)\n",
            "Building wheels for collected packages: configobj\n",
            "  Building wheel for configobj (setup.py) ... \u001b[?25l\u001b[?25hdone\n",
            "  Created wheel for configobj: filename=configobj-5.0.6-py3-none-any.whl size=34547 sha256=b71063c90c0c784693bc045625d95a2f61ebc0a7bee894c309a97cf221a882f7\n",
            "  Stored in directory: /root/.cache/pip/wheels/0d/c4/19/13d74440f2a571841db6b6e0a273694327498884dafb9cf978\n",
            "Successfully built configobj\n",
            "Installing collected packages: configobj, humanize, click-plugins, click-config-file, twarc\n",
            "  Attempting uninstall: humanize\n",
            "    Found existing installation: humanize 0.5.1\n",
            "    Uninstalling humanize-0.5.1:\n",
            "      Successfully uninstalled humanize-0.5.1\n",
            "Successfully installed click-config-file-0.6.0 click-plugins-1.1.1 configobj-5.0.6 humanize-4.4.0 twarc-2.11.3\n"
          ]
        }
      ]
    },
    {
      "cell_type": "code",
      "source": [
        "!twarc2 configure\n"
      ],
      "metadata": {
        "colab": {
          "base_uri": "https://localhost:8080/"
        },
        "id": "vRNlU8Uo9Fb-",
        "outputId": "9c251d03-e4fc-4f72-e26b-12e8f0ce634c"
      },
      "execution_count": null,
      "outputs": [
        {
          "output_type": "stream",
          "name": "stdout",
          "text": [
            "\n",
            "👋  Hi I don't see a configuration file yet, so let's make one.\n",
            "\n",
            "Please follow these steps:\n",
            "\n",
            "1. visit https://developer.twitter.com/en/portal/\n",
            "2. create a project and an app\n",
            "3. go to your Keys and Tokens and generate your keys\n",
            "\n",
            "Please enter your Bearer Token (leave blank to skip to API key configuration): AAAAAAAAAAAAAAAAAAAAANE%2BhAEAAAAAFOYHR2Zx8zlDeVbRk%2BNJWmNVL%2BI%3DTLXGqBVOXRtBUsjcdhcAOSCHAhxwZBCj9S7ctvMmmYwDRV5R06\n",
            "(Optional) Add API keys and secrets for user mode authentication [y or n]? y\n",
            "Please enter your API key: 4sVOHgOJTZuSdtSf9sQtwO0y8\n",
            "Please enter your API secret: JG9ByMiaUPyxurEzzKueumbxBp36F5sCoQILuMbMsvRdytVS1l\n",
            "\n",
            "How would you like twarc to obtain your user keys?\n",
            "\n",
            "1) generate access keys by visiting Twitter\n",
            "2) manually enter your access token and secret\n",
            "\n",
            "Please enter your choice [1 or 2] 2\n",
            "Enter your Access Token: 1506184438077607941-f2otE26ax5Nh0KQvYgxmB53GLE6pUs\n",
            "Enter your Access Token Secret: cV25PTXNaWmyZj05l45XqoiW0uOG4ehEa7lMf1zzYvReE\n",
            "\u001b[32m\n",
            "Your keys have been written to /root/.config/twarc/config\u001b[0m\n",
            "\n",
            "\n",
            "✨ ✨ ✨  Happy twarcing! ✨ ✨ ✨\n",
            "\n"
          ]
        }
      ]
    },
    {
      "cell_type": "code",
      "source": [
        "!python --version\n",
        "!twarc2 counts \"David Foster Wallace bro is:verified\" --csv --archive --granularity day > twitter-data/tweet-counts.csv"
      ],
      "metadata": {
        "colab": {
          "base_uri": "https://localhost:8080/"
        },
        "id": "j3YSQ3UF_98K",
        "outputId": "07d1f23f-22e4-48d4-efd7-a44829194cf3"
      },
      "execution_count": null,
      "outputs": [
        {
          "output_type": "stream",
          "name": "stdout",
          "text": [
            "Python 3.7.14\n"
          ]
        }
      ]
    },
    {
      "cell_type": "code",
      "source": [
        "!twarc hydrate nuha_test.txt > text.jsonl"
      ],
      "metadata": {
        "id": "253cHUgHCvmN"
      },
      "execution_count": null,
      "outputs": []
    },
    {
      "cell_type": "code",
      "source": [
        "!twarc2 configure\n"
      ],
      "metadata": {
        "colab": {
          "base_uri": "https://localhost:8080/"
        },
        "id": "_vguOl5sDKEa",
        "outputId": "d487c5a8-40d3-4509-d55f-c846e0dc3623"
      },
      "execution_count": null,
      "outputs": [
        {
          "output_type": "stream",
          "name": "stdout",
          "text": [
            "Please enter your Bearer Token (leave blank to skip to API key configuration): AAAAAAAAAAAAAAAAAAAAANE%2BhAEAAAAAFOYHR2Zx8zlDeVbRk%2BNJWmNVL%2BI%3DTLXGqBVOXRtBUsjcdhcAOSCHAhxwZBCj9S7ctvMmmYwDRV5R06\n",
            "(Optional) Add API keys and secrets for user mode authentication [y or n]? y\n",
            "Please enter your API key: 4sVOHgOJTZuSdtSf9sQtwO0y8\n",
            "Please enter your API secret: JG9ByMiaUPyxurEzzKueumbxBp36F5sCoQILuMbMsvRdytVS1l\n",
            "\n",
            "How would you like twarc to obtain your user keys?\n",
            "\n",
            "1) generate access keys by visiting Twitter\n",
            "2) manually enter your access token and secret\n",
            "\n",
            "Please enter your choice [1 or 2] 2\n",
            "Enter your Access Token: 1506184438077607941-f2otE26ax5Nh0KQvYgxmB53GLE6pUs\n",
            "Enter your Access Token Secret: cV25PTXNaWmyZj05l45XqoiW0uOG4ehEa7lMf1zzYvReE\n",
            "\u001b[32m\n",
            "Your keys have been written to /root/.config/twarc/config\u001b[0m\n",
            "\n",
            "\n",
            "✨ ✨ ✨  Happy twarcing! ✨ ✨ ✨\n",
            "\n"
          ]
        }
      ]
    },
    {
      "cell_type": "code",
      "source": [
        "from twarc import Twarc\n",
        "\n",
        "t_inst = Twarc('4sVOHgOJTZuSdtSf9sQtwO0y8', 'JG9ByMiaUPyxurEzzKueumbxBp36F5sCoQILuMbMsvRdytVS1l', '1506184438077607941-f2otE26ax5Nh0KQvYgxmB53GLE6pUs', 'cV25PTXNaWmyZj05l45XqoiW0uOG4ehEa7lMf1zzYvReE')"
      ],
      "metadata": {
        "id": "83gnCazrK9xq"
      },
      "execution_count": null,
      "outputs": []
    },
    {
      "cell_type": "code",
      "source": [
        "import pandas as pd\n",
        "import json\n",
        "import csv "
      ],
      "metadata": {
        "id": "G-VuGqdGPOQC"
      },
      "execution_count": null,
      "outputs": []
    },
    {
      "cell_type": "code",
      "source": [
        "ids = []\n",
        "hydratedTweets = []\n",
        "\n",
        "with open (\"nuha_test.txt\", \"r\") as IdsFile : # Open the input file\n",
        "  ids = IdsFile.read().split() #read and store the ids\n",
        "\n",
        "count = len(hydratedTweets) #set up counter\n",
        "endIndex = len(ids)\n",
        "\n",
        "print(\"Total Ids : \" + str(len(ids)))\n",
        "\n",
        "\n",
        "for tweet in t_inst.hydrate(iter(ids)):\n",
        "  hydratedTweets.append(tweet)  #appent tweet json into a list \n",
        "  count += 1      \n",
        "  if (count == endIndex): #stop condition \n",
        "      break\n",
        "  #hydratedTweets.append(tweet) #append tweet json into a list\n",
        "\n",
        "\n",
        "\n",
        "print(str(len(hydratedTweets)) + \"Tweet Saved \")\n",
        "\n",
        "with open (\"output.txt\", \"w\") as outfile : #open json file\n",
        "  json.dump(hydratedTweets, outfile) #write the data into json file\n",
        "\n",
        "\n",
        "\n"
      ],
      "metadata": {
        "colab": {
          "base_uri": "https://localhost:8080/"
        },
        "id": "4nNcvuSiLniT",
        "outputId": "93608a63-39fe-43e7-ccd1-db72d85e0794"
      },
      "execution_count": null,
      "outputs": [
        {
          "output_type": "stream",
          "name": "stdout",
          "text": [
            "Total Ids : 567\n",
            "1Tweet Saved \n"
          ]
        }
      ]
    },
    {
      "cell_type": "code",
      "source": [
        "!twarc2 hydrate nuha_test.txt > pi.jsonl"
      ],
      "metadata": {
        "id": "FTZSNeB8QdIg"
      },
      "execution_count": null,
      "outputs": []
    },
    {
      "cell_type": "code",
      "source": [
        "\n",
        "\n",
        "from twarc import Twarc\n",
        "\n",
        "t = Twarc(\"4sVOHgOJTZuSdtSf9sQtwO0y8\", \"JG9ByMiaUPyxurEzzKueumbxBp36F5sCoQILuMbMsvRdytVS1l\", \"1506184438077607941-f2otE26ax5Nh0KQvYgxmB53GLE6pUs\", \"cV25PTXNaWmyZj05l45XqoiW0uOG4ehEa7lMf1zzYvReE\")\n",
        "\n",
        "for tweet in t.hydrate(open('third.txt')):\n",
        "  print(tweet['full_text'])\n"
      ],
      "metadata": {
        "colab": {
          "base_uri": "https://localhost:8080/"
        },
        "id": "60N4mc4rSsiG",
        "outputId": "cec8c0fd-1d18-44b8-9791-7dea19d022e8"
      },
      "execution_count": null,
      "outputs": [
        {
          "output_type": "stream",
          "name": "stdout",
          "text": [
            "@AbuljalilSyria @xnaifx90 منذ عشرات السنين والسعودية تحترم اللبنانيين ولم نكن نفرق في استضافة الشيعي او المسيحي او المسلم او الدرزي ،، انا سني مسلم وكان ابن جارنا درزي لبناني ومازالت بيننا صداقة منذ الطفولة ،، وهذا الاتفاق والتوافق لم يعجب حزب الشيطان فقط ، فنحن كسعوديين ليست مشكلتنى\n"
          ]
        }
      ]
    },
    {
      "cell_type": "code",
      "source": [],
      "metadata": {
        "id": "8KhGf7C7zPou"
      },
      "execution_count": null,
      "outputs": []
    },
    {
      "cell_type": "markdown",
      "source": [
        "# Merging tweets texts with classification\n"
      ],
      "metadata": {
        "id": "ZVruzyMkzTtc"
      }
    },
    {
      "cell_type": "code",
      "source": [
        "import numpy as np # linear algebra\n",
        "import pandas as pd # data processing, CSV file I/O (e.g. pd.read_csv)\n",
        "\n",
        "\n",
        "d1 = pd.read_csv('/content/aracovid_id_class.csv')\n",
        "#d1['id'] = d1['id'].astype(int)\n",
        "\n",
        "d2 = pd.read_csv('/content/aracovid_tweets.csv')\n",
        "#data['Tweet'] = data['Tweet'].astype(str)\n",
        "\n",
        "#d1.dtypes\n",
        "#d2.dtypes\n",
        "total = pd.merge(d2, d1, on='id')"
      ],
      "metadata": {
        "id": "GCwtPPJvzWe6"
      },
      "execution_count": null,
      "outputs": []
    },
    {
      "cell_type": "code",
      "source": [
        "total.columns\n",
        "\n",
        "cols = ['coordinates', 'created_at', 'hashtags', 'media', 'urls',\n",
        "       'favorite_count', 'in_reply_to_screen_name',\n",
        "       'in_reply_to_status_id', 'in_reply_to_user_id', 'lang', 'place',\n",
        "       'possibly_sensitive', 'quote_id', 'retweet_count', 'retweet_id',\n",
        "       'retweet_screen_name', 'source', 'tweet_url', 'user_created_at',\n",
        "       'user_id', 'user_default_profile_image', 'user_description',\n",
        "       'user_favourites_count', 'user_followers_count', 'user_friends_count',\n",
        "       'user_listed_count', 'user_location', 'user_name', 'user_screen_name',\n",
        "       'user_statuses_count', 'user_time_zone', 'user_urls', 'user_verified']\n",
        "\n",
        "total = total.drop(cols, axis=1)"
      ],
      "metadata": {
        "id": "9OUy_v2P88U5"
      },
      "execution_count": null,
      "outputs": []
    },
    {
      "cell_type": "code",
      "source": [
        "total.columns"
      ],
      "metadata": {
        "colab": {
          "base_uri": "https://localhost:8080/"
        },
        "id": "RH8g7N3NFJ0d",
        "outputId": "b3bddc17-10d6-4e73-95aa-3819b1e0eb59"
      },
      "execution_count": null,
      "outputs": [
        {
          "output_type": "execute_result",
          "data": {
            "text/plain": [
              "Index(['id', 'text', 'Class'], dtype='object')"
            ]
          },
          "metadata": {},
          "execution_count": 22
        }
      ]
    },
    {
      "cell_type": "code",
      "source": [
        "total"
      ],
      "metadata": {
        "colab": {
          "base_uri": "https://localhost:8080/",
          "height": 424
        },
        "id": "Q_F3ngEkBSSY",
        "outputId": "b5197d58-9bb2-4a44-9ac6-c34979f5daac"
      },
      "execution_count": null,
      "outputs": [
        {
          "output_type": "execute_result",
          "data": {
            "text/plain": [
              "                       id                                               text  \\\n",
              "0     1263187123198361605  تعلن #وزارة_الصحة عن وفاة مقيم مصاب بمرض كورون...   \n",
              "1     1330945190530588672  خايفة يجيبوا لقاح الكورونا وما يكفينا ، يقوموا...   \n",
              "2     1323659989748252672  رسمياً.. #الرئاسة_الجزائرية تؤكد إصابة الرئيس ...   \n",
              "3     1244897531030536194  تخيل تجيلك كورونا قبل ما تتزوج تبقي مأساة،\\nبع...   \n",
              "4     1242215704272797698  مصير الجزائر والجزائريين معلق بمصير اخواننا وا...   \n",
              "...                   ...                                                ...   \n",
              "9193  1325812930206699522  رصدت ست دول من بينها الدنمارك والولايات المتحد...   \n",
              "9194  1240064387450384384  خطاب رئيس الجمهورية عبد المجيد تبون خلال الوضع...   \n",
              "9195  1278467793097297928  من كثرت اخبار \\nالحرب. والقتل. وفاجعة. كورونا ...   \n",
              "9196  1235659824211378178  اي شخص لايفصح عن سفره لايران خلال هذي المهله\\n...   \n",
              "9197  1222112322933739522  أحسن شي هالايام تدخل لفت مترووس اوادم وتعطس في...   \n",
              "\n",
              "     Class  \n",
              "0        0  \n",
              "1        0  \n",
              "2        0  \n",
              "3        0  \n",
              "4        0  \n",
              "...    ...  \n",
              "9193     0  \n",
              "9194     0  \n",
              "9195     0  \n",
              "9196     1  \n",
              "9197     0  \n",
              "\n",
              "[9198 rows x 3 columns]"
            ],
            "text/html": [
              "\n",
              "  <div id=\"df-662967ea-2224-447b-88c0-694b0a4db202\">\n",
              "    <div class=\"colab-df-container\">\n",
              "      <div>\n",
              "<style scoped>\n",
              "    .dataframe tbody tr th:only-of-type {\n",
              "        vertical-align: middle;\n",
              "    }\n",
              "\n",
              "    .dataframe tbody tr th {\n",
              "        vertical-align: top;\n",
              "    }\n",
              "\n",
              "    .dataframe thead th {\n",
              "        text-align: right;\n",
              "    }\n",
              "</style>\n",
              "<table border=\"1\" class=\"dataframe\">\n",
              "  <thead>\n",
              "    <tr style=\"text-align: right;\">\n",
              "      <th></th>\n",
              "      <th>id</th>\n",
              "      <th>text</th>\n",
              "      <th>Class</th>\n",
              "    </tr>\n",
              "  </thead>\n",
              "  <tbody>\n",
              "    <tr>\n",
              "      <th>0</th>\n",
              "      <td>1263187123198361605</td>\n",
              "      <td>تعلن #وزارة_الصحة عن وفاة مقيم مصاب بمرض كورون...</td>\n",
              "      <td>0</td>\n",
              "    </tr>\n",
              "    <tr>\n",
              "      <th>1</th>\n",
              "      <td>1330945190530588672</td>\n",
              "      <td>خايفة يجيبوا لقاح الكورونا وما يكفينا ، يقوموا...</td>\n",
              "      <td>0</td>\n",
              "    </tr>\n",
              "    <tr>\n",
              "      <th>2</th>\n",
              "      <td>1323659989748252672</td>\n",
              "      <td>رسمياً.. #الرئاسة_الجزائرية تؤكد إصابة الرئيس ...</td>\n",
              "      <td>0</td>\n",
              "    </tr>\n",
              "    <tr>\n",
              "      <th>3</th>\n",
              "      <td>1244897531030536194</td>\n",
              "      <td>تخيل تجيلك كورونا قبل ما تتزوج تبقي مأساة،\\nبع...</td>\n",
              "      <td>0</td>\n",
              "    </tr>\n",
              "    <tr>\n",
              "      <th>4</th>\n",
              "      <td>1242215704272797698</td>\n",
              "      <td>مصير الجزائر والجزائريين معلق بمصير اخواننا وا...</td>\n",
              "      <td>0</td>\n",
              "    </tr>\n",
              "    <tr>\n",
              "      <th>...</th>\n",
              "      <td>...</td>\n",
              "      <td>...</td>\n",
              "      <td>...</td>\n",
              "    </tr>\n",
              "    <tr>\n",
              "      <th>9193</th>\n",
              "      <td>1325812930206699522</td>\n",
              "      <td>رصدت ست دول من بينها الدنمارك والولايات المتحد...</td>\n",
              "      <td>0</td>\n",
              "    </tr>\n",
              "    <tr>\n",
              "      <th>9194</th>\n",
              "      <td>1240064387450384384</td>\n",
              "      <td>خطاب رئيس الجمهورية عبد المجيد تبون خلال الوضع...</td>\n",
              "      <td>0</td>\n",
              "    </tr>\n",
              "    <tr>\n",
              "      <th>9195</th>\n",
              "      <td>1278467793097297928</td>\n",
              "      <td>من كثرت اخبار \\nالحرب. والقتل. وفاجعة. كورونا ...</td>\n",
              "      <td>0</td>\n",
              "    </tr>\n",
              "    <tr>\n",
              "      <th>9196</th>\n",
              "      <td>1235659824211378178</td>\n",
              "      <td>اي شخص لايفصح عن سفره لايران خلال هذي المهله\\n...</td>\n",
              "      <td>1</td>\n",
              "    </tr>\n",
              "    <tr>\n",
              "      <th>9197</th>\n",
              "      <td>1222112322933739522</td>\n",
              "      <td>أحسن شي هالايام تدخل لفت مترووس اوادم وتعطس في...</td>\n",
              "      <td>0</td>\n",
              "    </tr>\n",
              "  </tbody>\n",
              "</table>\n",
              "<p>9198 rows × 3 columns</p>\n",
              "</div>\n",
              "      <button class=\"colab-df-convert\" onclick=\"convertToInteractive('df-662967ea-2224-447b-88c0-694b0a4db202')\"\n",
              "              title=\"Convert this dataframe to an interactive table.\"\n",
              "              style=\"display:none;\">\n",
              "        \n",
              "  <svg xmlns=\"http://www.w3.org/2000/svg\" height=\"24px\"viewBox=\"0 0 24 24\"\n",
              "       width=\"24px\">\n",
              "    <path d=\"M0 0h24v24H0V0z\" fill=\"none\"/>\n",
              "    <path d=\"M18.56 5.44l.94 2.06.94-2.06 2.06-.94-2.06-.94-.94-2.06-.94 2.06-2.06.94zm-11 1L8.5 8.5l.94-2.06 2.06-.94-2.06-.94L8.5 2.5l-.94 2.06-2.06.94zm10 10l.94 2.06.94-2.06 2.06-.94-2.06-.94-.94-2.06-.94 2.06-2.06.94z\"/><path d=\"M17.41 7.96l-1.37-1.37c-.4-.4-.92-.59-1.43-.59-.52 0-1.04.2-1.43.59L10.3 9.45l-7.72 7.72c-.78.78-.78 2.05 0 2.83L4 21.41c.39.39.9.59 1.41.59.51 0 1.02-.2 1.41-.59l7.78-7.78 2.81-2.81c.8-.78.8-2.07 0-2.86zM5.41 20L4 18.59l7.72-7.72 1.47 1.35L5.41 20z\"/>\n",
              "  </svg>\n",
              "      </button>\n",
              "      \n",
              "  <style>\n",
              "    .colab-df-container {\n",
              "      display:flex;\n",
              "      flex-wrap:wrap;\n",
              "      gap: 12px;\n",
              "    }\n",
              "\n",
              "    .colab-df-convert {\n",
              "      background-color: #E8F0FE;\n",
              "      border: none;\n",
              "      border-radius: 50%;\n",
              "      cursor: pointer;\n",
              "      display: none;\n",
              "      fill: #1967D2;\n",
              "      height: 32px;\n",
              "      padding: 0 0 0 0;\n",
              "      width: 32px;\n",
              "    }\n",
              "\n",
              "    .colab-df-convert:hover {\n",
              "      background-color: #E2EBFA;\n",
              "      box-shadow: 0px 1px 2px rgba(60, 64, 67, 0.3), 0px 1px 3px 1px rgba(60, 64, 67, 0.15);\n",
              "      fill: #174EA6;\n",
              "    }\n",
              "\n",
              "    [theme=dark] .colab-df-convert {\n",
              "      background-color: #3B4455;\n",
              "      fill: #D2E3FC;\n",
              "    }\n",
              "\n",
              "    [theme=dark] .colab-df-convert:hover {\n",
              "      background-color: #434B5C;\n",
              "      box-shadow: 0px 1px 3px 1px rgba(0, 0, 0, 0.15);\n",
              "      filter: drop-shadow(0px 1px 2px rgba(0, 0, 0, 0.3));\n",
              "      fill: #FFFFFF;\n",
              "    }\n",
              "  </style>\n",
              "\n",
              "      <script>\n",
              "        const buttonEl =\n",
              "          document.querySelector('#df-662967ea-2224-447b-88c0-694b0a4db202 button.colab-df-convert');\n",
              "        buttonEl.style.display =\n",
              "          google.colab.kernel.accessAllowed ? 'block' : 'none';\n",
              "\n",
              "        async function convertToInteractive(key) {\n",
              "          const element = document.querySelector('#df-662967ea-2224-447b-88c0-694b0a4db202');\n",
              "          const dataTable =\n",
              "            await google.colab.kernel.invokeFunction('convertToInteractive',\n",
              "                                                     [key], {});\n",
              "          if (!dataTable) return;\n",
              "\n",
              "          const docLinkHtml = 'Like what you see? Visit the ' +\n",
              "            '<a target=\"_blank\" href=https://colab.research.google.com/notebooks/data_table.ipynb>data table notebook</a>'\n",
              "            + ' to learn more about interactive tables.';\n",
              "          element.innerHTML = '';\n",
              "          dataTable['output_type'] = 'display_data';\n",
              "          await google.colab.output.renderOutput(dataTable, element);\n",
              "          const docLink = document.createElement('div');\n",
              "          docLink.innerHTML = docLinkHtml;\n",
              "          element.appendChild(docLink);\n",
              "        }\n",
              "      </script>\n",
              "    </div>\n",
              "  </div>\n",
              "  "
            ]
          },
          "metadata": {},
          "execution_count": 23
        }
      ]
    },
    {
      "cell_type": "code",
      "source": [
        "total.to_csv('aracovid_train_final',mode=\"a\", sep=',', index=False)"
      ],
      "metadata": {
        "id": "MjvEPWyFCCeC"
      },
      "execution_count": null,
      "outputs": []
    }
  ]
}