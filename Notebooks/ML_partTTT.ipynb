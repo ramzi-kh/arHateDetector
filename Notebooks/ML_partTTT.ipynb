{
  "nbformat": 4,
  "nbformat_minor": 0,
  "metadata": {
    "colab": {
      "provenance": []
    },
    "kernelspec": {
      "name": "python3",
      "display_name": "Python 3"
    },
    "language_info": {
      "name": "python"
    }
  },
  "cells": [
    {
      "cell_type": "markdown",
      "source": [
        "# DATA"
      ],
      "metadata": {
        "id": "3BIExhjrnofQ"
      }
    },
    {
      "cell_type": "code",
      "execution_count": null,
      "metadata": {
        "id": "eH4GZ2HXnav-"
      },
      "outputs": [],
      "source": [
        "import numpy as np # linear algebra\n",
        "import pandas as pd # data processing, CSV file I/O (e.g. pd.read_csv)\n",
        "\n",
        "#df = pd.read_excel(\"/content/levantine.xlsx\", header=0)\n",
        "#df = df.drop(df.loc[df[\"Class\"]==0].sample(frac=0.40).index)\n",
        "\n",
        "#df = pd.read_excel(\"/content/multi.xlsx\", header=0)\n",
        "#df = df.drop(df.loc[df[\"Class\"]==0].sample(frac=0.40).index)\n",
        "\n",
        "#df = pd.read_excel(\"/content/nuha.xlsx\", header=0)\n",
        "\n",
        "#df = pd.read_excel(\"/content/sb.xlsx\", header=0)\n",
        "\n",
        "#df = pd.read_excel(\"/content/raghad_total.xlsx\", header=0)\n",
        "\n",
        "#df = pd.read_csv(\"/content/total.csv\", header=0)\n",
        "\n",
        "df = pd.read_excel(\"/content/aracovid.xlsx\", header=0)\n",
        "df = df.drop(df.loc[df[\"Class\"]==0].sample(frac=0.68).index)\n",
        "\n",
        "df['Tweet'] = df['Tweet'].astype(str)\n",
        "df['Class'] = df['Class'].astype(int)\n"
      ]
    },
    {
      "cell_type": "code",
      "source": [
        "df[\"Class\"].value_counts()"
      ],
      "metadata": {
        "id": "lduv2YPVnpcb",
        "colab": {
          "base_uri": "https://localhost:8080/"
        },
        "outputId": "4bce5d19-9ad8-4683-a893-eba127169a19"
      },
      "execution_count": null,
      "outputs": [
        {
          "output_type": "execute_result",
          "data": {
            "text/plain": [
              "0    2676\n",
              "1     823\n",
              "Name: Class, dtype: int64"
            ]
          },
          "metadata": {},
          "execution_count": 216
        }
      ]
    },
    {
      "cell_type": "code",
      "source": [
        "df.isnull().sum().sum()"
      ],
      "metadata": {
        "colab": {
          "base_uri": "https://localhost:8080/"
        },
        "id": "j23qs0IbEhB7",
        "outputId": "24e4ccb5-3d3c-4577-f31c-99065ce272fe"
      },
      "execution_count": null,
      "outputs": [
        {
          "output_type": "execute_result",
          "data": {
            "text/plain": [
              "0"
            ]
          },
          "metadata": {},
          "execution_count": 209
        }
      ]
    },
    {
      "cell_type": "code",
      "source": [
        "df"
      ],
      "metadata": {
        "id": "jMlCbw73p02u",
        "colab": {
          "base_uri": "https://localhost:8080/",
          "height": 424
        },
        "outputId": "9a43b420-c965-4876-b99c-380f082dbeab"
      },
      "execution_count": null,
      "outputs": [
        {
          "output_type": "execute_result",
          "data": {
            "text/plain": [
              "                                                   Tweet  Class\n",
              "0      تعلن #وزارة_الصحة عن وفاة مقيم مصاب بمرض كورون...      0\n",
              "1      خايفة يجيبوا لقاح الكورونا وما يكفينا ، يقوموا...      0\n",
              "2      رسمياً.. #الرئاسة_الجزائرية تؤكد إصابة الرئيس ...      0\n",
              "3      تخيل تجيلك كورونا قبل ما تتزوج تبقي مأساة،\\nبع...      0\n",
              "4      مصير الجزائر والجزائريين معلق بمصير اخواننا وا...      0\n",
              "...                                                  ...    ...\n",
              "33735  @user يا اصحاب بول البعير ومملكة الظلام وقائدك...      1\n",
              "33736  @user يمشي بخطا ادارتها قيد من الأمريكان ونهب ...      1\n",
              "33737  @user مهما حصل هندوس عليهم شويه الرويبضه بس نخ...      1\n",
              "33738           الكلب لا يعض اذن اخوه كذابين خنازير @url      1\n",
              "33739  @user لأنه صغير ويكتب في قناة خنازير فلن نقرأ ...      1\n",
              "\n",
              "[33740 rows x 2 columns]"
            ],
            "text/html": [
              "\n",
              "  <div id=\"df-c6edb7e3-1d3a-4804-b561-ee3ae3b688da\">\n",
              "    <div class=\"colab-df-container\">\n",
              "      <div>\n",
              "<style scoped>\n",
              "    .dataframe tbody tr th:only-of-type {\n",
              "        vertical-align: middle;\n",
              "    }\n",
              "\n",
              "    .dataframe tbody tr th {\n",
              "        vertical-align: top;\n",
              "    }\n",
              "\n",
              "    .dataframe thead th {\n",
              "        text-align: right;\n",
              "    }\n",
              "</style>\n",
              "<table border=\"1\" class=\"dataframe\">\n",
              "  <thead>\n",
              "    <tr style=\"text-align: right;\">\n",
              "      <th></th>\n",
              "      <th>Tweet</th>\n",
              "      <th>Class</th>\n",
              "    </tr>\n",
              "  </thead>\n",
              "  <tbody>\n",
              "    <tr>\n",
              "      <th>0</th>\n",
              "      <td>تعلن #وزارة_الصحة عن وفاة مقيم مصاب بمرض كورون...</td>\n",
              "      <td>0</td>\n",
              "    </tr>\n",
              "    <tr>\n",
              "      <th>1</th>\n",
              "      <td>خايفة يجيبوا لقاح الكورونا وما يكفينا ، يقوموا...</td>\n",
              "      <td>0</td>\n",
              "    </tr>\n",
              "    <tr>\n",
              "      <th>2</th>\n",
              "      <td>رسمياً.. #الرئاسة_الجزائرية تؤكد إصابة الرئيس ...</td>\n",
              "      <td>0</td>\n",
              "    </tr>\n",
              "    <tr>\n",
              "      <th>3</th>\n",
              "      <td>تخيل تجيلك كورونا قبل ما تتزوج تبقي مأساة،\\nبع...</td>\n",
              "      <td>0</td>\n",
              "    </tr>\n",
              "    <tr>\n",
              "      <th>4</th>\n",
              "      <td>مصير الجزائر والجزائريين معلق بمصير اخواننا وا...</td>\n",
              "      <td>0</td>\n",
              "    </tr>\n",
              "    <tr>\n",
              "      <th>...</th>\n",
              "      <td>...</td>\n",
              "      <td>...</td>\n",
              "    </tr>\n",
              "    <tr>\n",
              "      <th>33735</th>\n",
              "      <td>@user يا اصحاب بول البعير ومملكة الظلام وقائدك...</td>\n",
              "      <td>1</td>\n",
              "    </tr>\n",
              "    <tr>\n",
              "      <th>33736</th>\n",
              "      <td>@user يمشي بخطا ادارتها قيد من الأمريكان ونهب ...</td>\n",
              "      <td>1</td>\n",
              "    </tr>\n",
              "    <tr>\n",
              "      <th>33737</th>\n",
              "      <td>@user مهما حصل هندوس عليهم شويه الرويبضه بس نخ...</td>\n",
              "      <td>1</td>\n",
              "    </tr>\n",
              "    <tr>\n",
              "      <th>33738</th>\n",
              "      <td>الكلب لا يعض اذن اخوه كذابين خنازير @url</td>\n",
              "      <td>1</td>\n",
              "    </tr>\n",
              "    <tr>\n",
              "      <th>33739</th>\n",
              "      <td>@user لأنه صغير ويكتب في قناة خنازير فلن نقرأ ...</td>\n",
              "      <td>1</td>\n",
              "    </tr>\n",
              "  </tbody>\n",
              "</table>\n",
              "<p>33740 rows × 2 columns</p>\n",
              "</div>\n",
              "      <button class=\"colab-df-convert\" onclick=\"convertToInteractive('df-c6edb7e3-1d3a-4804-b561-ee3ae3b688da')\"\n",
              "              title=\"Convert this dataframe to an interactive table.\"\n",
              "              style=\"display:none;\">\n",
              "        \n",
              "  <svg xmlns=\"http://www.w3.org/2000/svg\" height=\"24px\"viewBox=\"0 0 24 24\"\n",
              "       width=\"24px\">\n",
              "    <path d=\"M0 0h24v24H0V0z\" fill=\"none\"/>\n",
              "    <path d=\"M18.56 5.44l.94 2.06.94-2.06 2.06-.94-2.06-.94-.94-2.06-.94 2.06-2.06.94zm-11 1L8.5 8.5l.94-2.06 2.06-.94-2.06-.94L8.5 2.5l-.94 2.06-2.06.94zm10 10l.94 2.06.94-2.06 2.06-.94-2.06-.94-.94-2.06-.94 2.06-2.06.94z\"/><path d=\"M17.41 7.96l-1.37-1.37c-.4-.4-.92-.59-1.43-.59-.52 0-1.04.2-1.43.59L10.3 9.45l-7.72 7.72c-.78.78-.78 2.05 0 2.83L4 21.41c.39.39.9.59 1.41.59.51 0 1.02-.2 1.41-.59l7.78-7.78 2.81-2.81c.8-.78.8-2.07 0-2.86zM5.41 20L4 18.59l7.72-7.72 1.47 1.35L5.41 20z\"/>\n",
              "  </svg>\n",
              "      </button>\n",
              "      \n",
              "  <style>\n",
              "    .colab-df-container {\n",
              "      display:flex;\n",
              "      flex-wrap:wrap;\n",
              "      gap: 12px;\n",
              "    }\n",
              "\n",
              "    .colab-df-convert {\n",
              "      background-color: #E8F0FE;\n",
              "      border: none;\n",
              "      border-radius: 50%;\n",
              "      cursor: pointer;\n",
              "      display: none;\n",
              "      fill: #1967D2;\n",
              "      height: 32px;\n",
              "      padding: 0 0 0 0;\n",
              "      width: 32px;\n",
              "    }\n",
              "\n",
              "    .colab-df-convert:hover {\n",
              "      background-color: #E2EBFA;\n",
              "      box-shadow: 0px 1px 2px rgba(60, 64, 67, 0.3), 0px 1px 3px 1px rgba(60, 64, 67, 0.15);\n",
              "      fill: #174EA6;\n",
              "    }\n",
              "\n",
              "    [theme=dark] .colab-df-convert {\n",
              "      background-color: #3B4455;\n",
              "      fill: #D2E3FC;\n",
              "    }\n",
              "\n",
              "    [theme=dark] .colab-df-convert:hover {\n",
              "      background-color: #434B5C;\n",
              "      box-shadow: 0px 1px 3px 1px rgba(0, 0, 0, 0.15);\n",
              "      filter: drop-shadow(0px 1px 2px rgba(0, 0, 0, 0.3));\n",
              "      fill: #FFFFFF;\n",
              "    }\n",
              "  </style>\n",
              "\n",
              "      <script>\n",
              "        const buttonEl =\n",
              "          document.querySelector('#df-c6edb7e3-1d3a-4804-b561-ee3ae3b688da button.colab-df-convert');\n",
              "        buttonEl.style.display =\n",
              "          google.colab.kernel.accessAllowed ? 'block' : 'none';\n",
              "\n",
              "        async function convertToInteractive(key) {\n",
              "          const element = document.querySelector('#df-c6edb7e3-1d3a-4804-b561-ee3ae3b688da');\n",
              "          const dataTable =\n",
              "            await google.colab.kernel.invokeFunction('convertToInteractive',\n",
              "                                                     [key], {});\n",
              "          if (!dataTable) return;\n",
              "\n",
              "          const docLinkHtml = 'Like what you see? Visit the ' +\n",
              "            '<a target=\"_blank\" href=https://colab.research.google.com/notebooks/data_table.ipynb>data table notebook</a>'\n",
              "            + ' to learn more about interactive tables.';\n",
              "          element.innerHTML = '';\n",
              "          dataTable['output_type'] = 'display_data';\n",
              "          await google.colab.output.renderOutput(dataTable, element);\n",
              "          const docLink = document.createElement('div');\n",
              "          docLink.innerHTML = docLinkHtml;\n",
              "          element.appendChild(docLink);\n",
              "        }\n",
              "      </script>\n",
              "    </div>\n",
              "  </div>\n",
              "  "
            ]
          },
          "metadata": {},
          "execution_count": 177
        }
      ]
    },
    {
      "cell_type": "markdown",
      "source": [
        "# PREPROCESSING"
      ],
      "metadata": {
        "id": "U1c9ArfqanfA"
      }
    },
    {
      "cell_type": "code",
      "source": [
        "%pip install pyarabic\n",
        "\n",
        "import re\n",
        "import pyarabic.araby as araby"
      ],
      "metadata": {
        "id": "ZFNQbpY1bHH9"
      },
      "execution_count": null,
      "outputs": []
    },
    {
      "cell_type": "code",
      "source": [
        "pip  install -U farasapy"
      ],
      "metadata": {
        "id": "dx5tNjIHgyoS"
      },
      "execution_count": null,
      "outputs": []
    },
    {
      "cell_type": "code",
      "source": [
        "\n",
        "import re\n",
        "from farasa.stemmer import FarasaStemmer\n",
        "\n",
        "\n",
        "stopwords = {\"،\",\"آض\",\"آمينَ\",\"آه\",\"آهاً\",\"آي\",\"أ\",\"أب\",\"أجل\",\"أجمع\",\"أخ\",\"أخذ\",\"أصبح\",\"أضحى\",\"أقبل\",\"أقل\",\"أكثر\",\"ألا\",\"أم\",\"أما\",\"أمامك\",\"أمامكَ\",\"أمسى\",\"أمّا\",\"أن\",\"أنا\",\"أنت\",\"أنتم\",\"أنتما\",\"أنتن\",\"أنتِ\",\"أنشأ\",\"أنّى\",\"أو\",\"أوشك\",\"أولئك\",\"أولئكم\",\"أولاء\",\"أولالك\",\"أوّهْ\",\"أي\",\"أيا\",\"أين\",\"أينما\",\"أيّ\",\"أَنَّ\",\"أََيُّ\",\"أُفٍّ\",\"إذ\",\"إذا\",\"إذاً\",\"إذما\",\"إذن\",\"إلى\",\"إليكم\",\"إليكما\",\"إليكنّ\",\"إليكَ\",\"إلَيْكَ\",\"إلّا\",\"إمّا\",\"إن\",\"إنّما\",\"إي\",\"إياك\",\"إياكم\",\"إياكما\",\"إياكن\",\"إيانا\",\"إياه\",\"إياها\",\"إياهم\",\"إياهما\",\"إياهن\",\"إياي\",\"إيهٍ\",\"إِنَّ\",\"ا\",\"ابتدأ\",\"اثر\",\"اجل\",\"احد\",\"اخرى\",\"اخلولق\",\"اذا\",\"اربعة\",\"ارتدّ\",\"استحال\",\"اطار\",\"اعادة\",\"اعلنت\",\"اف\",\"اكثر\",\"اكد\",\"الألاء\",\"الألى\",\"الا\",\"الاخيرة\",\"الان\",\"الاول\",\"الاولى\",\"التى\",\"التي\",\"الثاني\",\"الثانية\",\"الذاتي\",\"الذى\",\"الذي\",\"الذين\",\"السابق\",\"الف\",\"اللائي\",\"اللاتي\",\"اللتان\",\"اللتيا\",\"اللتين\",\"اللذان\",\"اللذين\",\"اللواتي\",\"الماضي\",\"المقبل\",\"الوقت\",\"الى\",\"اليوم\",\"اما\",\"امام\",\"امس\",\"ان\",\"انبرى\",\"انقلب\",\"انه\",\"انها\",\"او\",\"اول\",\"اي\",\"ايار\",\"ايام\",\"ايضا\",\"ب\",\"بات\",\"باسم\",\"بان\",\"بخٍ\",\"برس\",\"بسبب\",\"بسّ\",\"بشكل\",\"بضع\",\"بطآن\",\"بعد\",\"بعض\",\"بك\",\"بكم\",\"بكما\",\"بكن\",\"بل\",\"بلى\",\"بما\",\"بماذا\",\"بمن\",\"بن\",\"بنا\",\"به\",\"بها\",\"بي\",\"بيد\",\"بين\",\"بَسْ\",\"بَلْهَ\",\"بِئْسَ\",\"تانِ\",\"تانِك\",\"تبدّل\",\"تجاه\",\"تحوّل\",\"تلقاء\",\"تلك\",\"تلكم\",\"تلكما\",\"تم\",\"تينك\",\"تَيْنِ\",\"تِه\",\"تِي\",\"ثلاثة\",\"ثم\",\"ثمّ\",\"ثمّة\",\"ثُمَّ\",\"جعل\",\"جلل\",\"جميع\",\"جير\",\"حار\",\"حاشا\",\"حاليا\",\"حاي\",\"حتى\",\"حرى\",\"حسب\",\"حم\",\"حوالى\",\"حول\",\"حيث\",\"حيثما\",\"حين\",\"حيَّ\",\"حَبَّذَا\",\"حَتَّى\",\"حَذارِ\",\"خلا\",\"خلال\",\"دون\",\"دونك\",\"ذا\",\"ذات\",\"ذاك\",\"ذانك\",\"ذانِ\",\"ذلك\",\"ذلكم\",\"ذلكما\",\"ذلكن\",\"ذو\",\"ذوا\",\"ذواتا\",\"ذواتي\",\"ذيت\",\"ذينك\",\"ذَيْنِ\",\"ذِه\",\"ذِي\",\"راح\",\"رجع\",\"رويدك\",\"ريث\",\"رُبَّ\",\"زيارة\",\"سبحان\",\"سرعان\",\"سنة\",\"سنوات\",\"سوف\",\"سوى\",\"سَاءَ\",\"سَاءَمَا\",\"شبه\",\"شخصا\",\"شرع\",\"شَتَّانَ\",\"صار\",\"صباح\",\"صفر\",\"صهٍ\",\"صهْ\",\"ضد\",\"ضمن\",\"طاق\",\"طالما\",\"طفق\",\"طَق\",\"ظلّ\",\"عاد\",\"عام\",\"عاما\",\"عامة\",\"عدا\",\"عدة\",\"عدد\",\"عدم\",\"عسى\",\"عشر\",\"عشرة\",\"علق\",\"على\",\"عليك\",\"عليه\",\"عليها\",\"علًّ\",\"عن\",\"عند\",\"عندما\",\"عوض\",\"عين\",\"عَدَسْ\",\"عَمَّا\",\"غدا\",\"غير\",\"ـ\",\"ف\",\"فان\",\"فلان\",\"فو\",\"فى\",\"في\",\"فيم\",\"فيما\",\"فيه\",\"فيها\",\"قال\",\"قام\",\"قبل\",\"قد\",\"قطّ\",\"قلما\",\"قوة\",\"كأنّما\",\"كأين\",\"كأيّ\",\"كأيّن\",\"كاد\",\"كان\",\"كانت\",\"كذا\",\"كذلك\",\"كرب\",\"كل\",\"كلا\",\"كلاهما\",\"كلتا\",\"كلم\",\"كليكما\",\"كليهما\",\"كلّما\",\"كلَّا\",\"كم\",\"كما\",\"كي\",\"كيت\",\"كيف\",\"كيفما\",\"كَأَنَّ\",\"كِخ\",\"لئن\",\"لا\",\"لات\",\"لاسيما\",\"لدن\",\"لدى\",\"لعمر\",\"لقاء\",\"لك\",\"لكم\",\"لكما\",\"لكن\",\"لكنَّما\",\"لكي\",\"لكيلا\",\"للامم\",\"لم\",\"لما\",\"لمّا\",\"لن\",\"لنا\",\"له\",\"لها\",\"لو\",\"لوكالة\",\"لولا\",\"لوما\",\"لي\",\"لَسْتَ\",\"لَسْتُ\",\"لَسْتُم\",\"لَسْتُمَا\",\"لَسْتُنَّ\",\"لَسْتِ\",\"لَسْنَ\",\"لَعَلَّ\",\"لَكِنَّ\",\"لَيْتَ\",\"لَيْسَ\",\"لَيْسَا\",\"لَيْسَتَا\",\"لَيْسَتْ\",\"لَيْسُوا\",\"لَِسْنَا\",\"ما\",\"ماانفك\",\"مابرح\",\"مادام\",\"ماذا\",\"مازال\",\"مافتئ\",\"مايو\",\"متى\",\"مثل\",\"مذ\",\"مساء\",\"مع\",\"معاذ\",\"مقابل\",\"مكانكم\",\"مكانكما\",\"مكانكنّ\",\"مكانَك\",\"مليار\",\"مليون\",\"مما\",\"ممن\",\"من\",\"منذ\",\"منها\",\"مه\",\"مهما\",\"مَنْ\",\"مِن\",\"نحن\",\"نحو\",\"نعم\",\"نفس\",\"نفسه\",\"نهاية\",\"نَخْ\",\"نِعِمّا\",\"نِعْمَ\",\"ها\",\"هاؤم\",\"هاكَ\",\"هاهنا\",\"هبّ\",\"هذا\",\"هذه\",\"هكذا\",\"هل\",\"هلمَّ\",\"هلّا\",\"هم\",\"هما\",\"هن\",\"هنا\",\"هناك\",\"هنالك\",\"هو\",\"هي\",\"هيا\",\"هيت\",\"هيّا\",\"هَؤلاء\",\"هَاتانِ\",\"هَاتَيْنِ\",\"هَاتِه\",\"هَاتِي\",\"هَجْ\",\"هَذا\",\"هَذانِ\",\"هَذَيْنِ\",\"هَذِه\",\"هَذِي\",\"هَيْهَاتَ\",\"و\",\"و6\",\"وا\",\"واحد\",\"واضاف\",\"واضافت\",\"واكد\",\"وان\",\"واهاً\",\"واوضح\",\"وراءَك\",\"وفي\",\"وقال\",\"وقالت\",\"وقد\",\"وقف\",\"وكان\",\"وكانت\",\"ولا\",\"ولم\",\"ومن\",\"مَن\",\"وهو\",\"وهي\",\"ويكأنّ\",\"وَيْ\",\"وُشْكَانََ\",\"يكون\",\"يمكن\",\"يوم\",\"ّأيّان\"}\n",
        "\n",
        "def remove_tashkeel(text):\n",
        "    return araby.strip_tashkeel(text)\n",
        "\n",
        "def remove_tatweel(text):\n",
        "    return araby.strip_tatweel(text)\n",
        "\n",
        "def normalization(text):\n",
        "    text = re.sub(\"[إأٱآا]\", \"ا\", text)\n",
        "    text = re.sub(\"ي\", \"ى\", text)\n",
        "    text = re.sub(\"ة\", \"ه\", text)\n",
        "    return text\n",
        "\n",
        "def normalize_hamza(text):\n",
        "    return araby.normalize_hamza(text)\n",
        "\n",
        "def remove_usernames(text):\n",
        "    text = re.sub(\"@[\\w]*\", '', text)\n",
        "    return text\n",
        "\n",
        "def remove_hashtags(text):\n",
        "    text = re.sub(\"#[\\w]*\", '', text)\n",
        "    return text\n",
        "\n",
        "def clean_text(text):\n",
        "    text = re.sub(r'[.,\\\"،\\/#!$%\\^&\\*;:{}=\\-_`~()?؟﴾﴿]',' ',text) #remove punctuation\n",
        "    text = re.sub('#\\d+K\\d+', ' ', text)  # years like 2K19\n",
        "    text = re.sub('http\\S+\\s*', ' ', text)  # remove URLs\n",
        "    text = re.sub('RT|cc', ' ', text)  # remove RT and cc\n",
        "    text = re.sub(r'[0-9]+',' ',text) #remove numbers\n",
        "    text = re.sub(r'[\\u0660-\\u0669]+',' ',text) #remove arabic numbers\n",
        "    text = re.sub(r\"_\",' ',text) #remove _\n",
        "    text = re.sub('\\s+', ' ', text).strip() #remove additional whitespaces\n",
        "    return text\n",
        "\n",
        "def remove_non_arabic_letters(text):\n",
        "    ENGLISH_CHARS =r'[a-zA-Z]+\\b(?<!urllink|mention)'\n",
        "    text = re.sub(ENGLISH_CHARS, \"\",  text)\n",
        "    return text\n",
        "\n",
        "def remove_stopwords(text, stopwords):\n",
        "    word_list = text.split(' ')\n",
        "    filtered_words = [word for word in word_list if word not in stopwords]\n",
        "    text = ' '.join(filtered_words)\n",
        "    return text\n",
        "\n",
        "def remove_imoji(text):\n",
        "\n",
        "    emoji_pattern = re.compile(\"[\"\n",
        "                                    u\"\\U0001F600-\\U0001F64F\"  # emoticons\n",
        "                                    u\"\\U0001F300-\\U0001F5FF\"  # symbols & pictographs\n",
        "                                    u\"\\U0001F680-\\U0001F6FF\"  # transport & map symbols\n",
        "                                    u\"\\U0001F1E0-\\U0001F1FF\"  # flags (iOS)\n",
        "                                    u\"\\U00002702-\\U000027B0\"\n",
        "                                    u\"\\U000024C2-\\U0001F251\"\n",
        "                                    \"]+\", flags=re.UNICODE)\n",
        "    text = re.sub(emoji_pattern, '', text)\n",
        "    return text\n",
        "\n",
        "#stemmer = FarasaStemmer()\n",
        "\n",
        "\n",
        "\n",
        "def clean_tweets(df):\n",
        "\n",
        "  tempArr = []\n",
        "  for line in df:\n",
        "\n",
        "    tweet = remove_tashkeel(line)\n",
        "    tweet = remove_tatweel(tweet)\n",
        "    tweet = normalization(tweet)\n",
        "    tweet = normalize_hamza(tweet)\n",
        "    tweet = remove_usernames(tweet)\n",
        "    tweet = remove_hashtags(tweet)\n",
        "    tweet = remove_non_arabic_letters(tweet)\n",
        "    tweet = remove_stopwords(tweet, stopwords)\n",
        "    tweet = remove_imoji(tweet)\n",
        "    tweet = clean_text(tweet)\n",
        "    #tweet = stemmer.stem(tweet)\n",
        "\n",
        "    tempArr.append(tweet)\n",
        "  return tempArr\n"
      ],
      "metadata": {
        "id": "cLTt9qiyam4V"
      },
      "execution_count": null,
      "outputs": []
    },
    {
      "cell_type": "code",
      "source": [
        "# clean data\n",
        "\n",
        "clean = clean_tweets(df[\"Tweet\"])\n",
        "clean = pd.DataFrame(clean)\n",
        "\n",
        "df[\"Tweet\"] = clean\n",
        "df['Tweet'] = df['Tweet'].astype(str)"
      ],
      "metadata": {
        "id": "fh0YKS7Pg-g9"
      },
      "execution_count": null,
      "outputs": []
    },
    {
      "cell_type": "code",
      "source": [
        "df.rename(columns={'Tweet':'texts'}, inplace=True)\n",
        "df.rename(columns={'Class':'data_labels'}, inplace=True)"
      ],
      "metadata": {
        "id": "CwJJZHWNujeI"
      },
      "execution_count": null,
      "outputs": []
    },
    {
      "cell_type": "markdown",
      "source": [
        "# DATA PARTITION"
      ],
      "metadata": {
        "id": "HCzwqlxha3uR"
      }
    },
    {
      "cell_type": "code",
      "source": [
        "from sklearn.model_selection import train_test_split\n",
        "\n",
        "X = df.texts.values\n",
        "Y = df.data_labels.values\n",
        "\n",
        "X_train, X_val, Y_train, Y_val =train_test_split(X, Y, test_size=0.25, random_state=200)"
      ],
      "metadata": {
        "id": "i4X2CAewuoQi"
      },
      "execution_count": null,
      "outputs": []
    },
    {
      "cell_type": "markdown",
      "source": [
        "# ML ALGORITHMS"
      ],
      "metadata": {
        "id": "uzwubvSvSNvZ"
      }
    },
    {
      "cell_type": "code",
      "source": [
        "import sklearn \n",
        "from sklearn import metrics\n",
        "from sklearn.metrics import accuracy_score\n",
        "from sklearn.metrics import precision_score\n",
        "from sklearn.metrics import recall_score\n",
        "from sklearn.metrics import f1_score\n",
        "from sklearn.ensemble import RandomForestClassifier\n",
        "from sklearn.feature_extraction.text import TfidfVectorizer\n",
        "from sklearn.linear_model import SGDClassifier\n",
        "from sklearn.naive_bayes import MultinomialNB, BernoulliNB\n",
        "from sklearn.neighbors import KNeighborsClassifier\n",
        "from sklearn.pipeline import Pipeline\n",
        "from sklearn.svm import LinearSVC\n",
        "from sklearn.svm import SVC\n",
        "from sklearn.tree import DecisionTreeClassifier\n",
        "import random\n",
        "import joblib\n",
        "import pickle"
      ],
      "metadata": {
        "id": "NWx4Q_N86wUC"
      },
      "execution_count": null,
      "outputs": []
    },
    {
      "cell_type": "code",
      "source": [
        "x_train = X_train\n",
        "y_train = Y_train\n",
        "\n",
        "x_test= X_val\n",
        "y_test = Y_val\n",
        "\n",
        "\n",
        "def detect_hate(my_classifier, name, x_train, y_train, x_test, y_test):\n",
        "    \n",
        "    print('parameters')\n",
        "    print('classifier:', my_classifier.__class__.__name__)\n",
        "    print('------------------------------------')\n",
        "\n",
        "    pipeline = Pipeline([\n",
        "        ('vect', TfidfVectorizer(min_df=0.0001, max_df=0.95,\n",
        "                                 analyzer='word', lowercase=False,)),\n",
        "        ('clf', my_classifier),\n",
        "    ])\n",
        "\n",
        "    pipeline.fit(x_train, y_train)\n",
        "    feature_names = pipeline.named_steps['vect'].get_feature_names()\n",
        "\n",
        "    y_predicted = pipeline.predict(x_test)\n",
        "\n",
        "\n",
        "    # Print the classification report\n",
        "    print(metrics.classification_report(y_test, y_predicted,\n",
        "                                        ))\n",
        "\n",
        "    # Print the confusion matrix\n",
        "    cm = metrics.confusion_matrix(y_test, y_predicted)\n",
        "    print(cm)\n",
        "    print('# of features:', len(feature_names))\n",
        "    print('sample of features:', random.sample(feature_names, 40))\n",
        "    accuracy = accuracy_score(y_test, y_predicted)\n",
        "    precision = precision_score(y_test, y_predicted, average='weighted')\n",
        "    recall =  recall_score(y_test, y_predicted, average='weighted')\n",
        "    f1 = f1_score(y_test, y_predicted, labels=None, pos_label=1, average='weighted', sample_weight=None)\n",
        "    return name, accuracy, precision, recall, f1\n"
      ],
      "metadata": {
        "id": "APmUOCbM62XK"
      },
      "execution_count": null,
      "outputs": []
    },
    {
      "cell_type": "code",
      "source": [
        "\n",
        "results = []\n",
        "\n",
        "classifiers = [LinearSVC(), SVC(), MultinomialNB(),\n",
        "               BernoulliNB(), SGDClassifier(), DecisionTreeClassifier(max_depth=20),\n",
        "               RandomForestClassifier(max_depth=3, n_estimators=10, max_features=1),\n",
        "               KNeighborsClassifier(15), LogisticRegression()\n",
        "               ]\n",
        "\n",
        "for alg in classifiers:\n",
        "  alg_name = alg.__class__.__name__\n",
        "  r = detect_hate(alg, alg_name, x_train, y_train, x_test, y_test)\n",
        "  results.append(r)\n",
        "\n",
        "\n"
      ],
      "metadata": {
        "colab": {
          "base_uri": "https://localhost:8080/"
        },
        "id": "dh3VsDjn88zp",
        "outputId": "63356a78-6347-40aa-9a6f-2482633a50dc"
      },
      "execution_count": null,
      "outputs": [
        {
          "output_type": "stream",
          "name": "stdout",
          "text": [
            "parameters\n",
            "classifier: LinearSVC\n",
            "------------------------------------\n",
            "              precision    recall  f1-score   support\n",
            "\n",
            "           0       0.83      0.94      0.88       879\n",
            "           1       0.74      0.46      0.57       319\n",
            "\n",
            "    accuracy                           0.81      1198\n",
            "   macro avg       0.78      0.70      0.72      1198\n",
            "weighted avg       0.80      0.81      0.80      1198\n",
            "\n",
            "[[826  53]\n",
            " [171 148]]\n",
            "# of features: 26448\n",
            "sample of features: ['نجرب', 'فهمتو', 'اساسه', 'فتىاتكم', 'وىعلق', 'ندعسه', 'اطمءن', 'ارواح', 'الله', 'مقاولات', 'نكتفى', 'ناحىه', 'المالىه', 'سترحل', 'مسقط', 'اثارو', 'ىقلى', 'وماعندهه', 'تتقبلونا', 'تبغى', 'العربىه', 'بتشكىكك', 'وانسان', 'المحافظات', 'وتحقىق', 'العنوان', 'والشموخ', 'مساواه', 'وحضاره', 'المخدرات', 'والاعب', 'اىوفقهم', 'كسب', 'سلبىه', 'برهف', 'انطقك', 'تسالىن', 'باىعنا', 'وحرفى', 'تعداد']\n",
            "parameters\n",
            "classifier: SVC\n",
            "------------------------------------\n"
          ]
        },
        {
          "output_type": "stream",
          "name": "stderr",
          "text": [
            "/usr/local/lib/python3.8/dist-packages/sklearn/utils/deprecation.py:87: FutureWarning: Function get_feature_names is deprecated; get_feature_names is deprecated in 1.0 and will be removed in 1.2. Please use get_feature_names_out instead.\n",
            "  warnings.warn(msg, category=FutureWarning)\n",
            "/usr/local/lib/python3.8/dist-packages/sklearn/utils/deprecation.py:87: FutureWarning: Function get_feature_names is deprecated; get_feature_names is deprecated in 1.0 and will be removed in 1.2. Please use get_feature_names_out instead.\n",
            "  warnings.warn(msg, category=FutureWarning)\n"
          ]
        },
        {
          "output_type": "stream",
          "name": "stdout",
          "text": [
            "              precision    recall  f1-score   support\n",
            "\n",
            "           0       0.75      0.99      0.85       879\n",
            "           1       0.79      0.08      0.15       319\n",
            "\n",
            "    accuracy                           0.75      1198\n",
            "   macro avg       0.77      0.54      0.50      1198\n",
            "weighted avg       0.76      0.75      0.67      1198\n",
            "\n",
            "[[872   7]\n",
            " [293  26]]\n",
            "# of features: 26448\n",
            "sample of features: ['كونى', 'نفاقه', 'العبث', 'ماسكتها', 'وااااو', 'عونا', 'عهد', 'كرىه', 'حقوق', 'ىشكرنا', 'تواجدكم', 'بكلمه', 'جونز', 'بملىون', 'zJ', 'نوصله', 'تجربتى', 'البزران', 'اكتب', 'ىلى', 'القول', 'قراراته', 'قولتك', 'المنصورى', 'الامىرى', 'المطار', 'كل', 'المادىىن', 'بلغه', 'وانتشار', 'والصمود', 'السبحه', 'للوسم', 'ىفكر', 'وممل', 'ىاداعشى', 'WB', 'حىله', 'حذاء', 'اعتزال']\n",
            "parameters\n",
            "classifier: MultinomialNB\n",
            "------------------------------------\n",
            "              precision    recall  f1-score   support\n",
            "\n",
            "           0       0.74      1.00      0.85       879\n",
            "           1       1.00      0.02      0.04       319\n",
            "\n",
            "    accuracy                           0.74      1198\n",
            "   macro avg       0.87      0.51      0.45      1198\n",
            "weighted avg       0.81      0.74      0.63      1198\n",
            "\n",
            "[[879   0]\n",
            " [312   7]]\n",
            "# of features: 26448\n",
            "sample of features: ['للمعتوهات', 'وتدعى', 'ىهدى', 'الشراكه', 'لزوال', 'بالقصىده', 'وانكم', 'الملفات', 'التحفظ', 'mz', 'ىهبط', 'لمستولك', 'رىتنى', 'معىى', 'بالعربىه', 'وىمرح', 'جزى', 'المتلقى', 'واقعى', 'وتخطىط', 'الازدحام', 'سنحدثكم', 'حرقتهم', 'اسالك', 'PMmo', 'تستاذن', 'استقلالها', 'الهىءه', 'تقاتلنا', 'اللىبرالى', 'بس', 'الطىار', 'جاءت', 'النحاس', 'دراستى', 'رب', 'ملىءه', 'وحدهم', 'مشىدا', 'وتنطم']\n",
            "parameters\n",
            "classifier: BernoulliNB\n",
            "------------------------------------\n"
          ]
        },
        {
          "output_type": "stream",
          "name": "stderr",
          "text": [
            "/usr/local/lib/python3.8/dist-packages/sklearn/utils/deprecation.py:87: FutureWarning: Function get_feature_names is deprecated; get_feature_names is deprecated in 1.0 and will be removed in 1.2. Please use get_feature_names_out instead.\n",
            "  warnings.warn(msg, category=FutureWarning)\n",
            "/usr/local/lib/python3.8/dist-packages/sklearn/utils/deprecation.py:87: FutureWarning: Function get_feature_names is deprecated; get_feature_names is deprecated in 1.0 and will be removed in 1.2. Please use get_feature_names_out instead.\n",
            "  warnings.warn(msg, category=FutureWarning)\n"
          ]
        },
        {
          "output_type": "stream",
          "name": "stdout",
          "text": [
            "              precision    recall  f1-score   support\n",
            "\n",
            "           0       0.74      1.00      0.85       879\n",
            "           1       0.89      0.03      0.05       319\n",
            "\n",
            "    accuracy                           0.74      1198\n",
            "   macro avg       0.81      0.51      0.45      1198\n",
            "weighted avg       0.78      0.74      0.64      1198\n",
            "\n",
            "[[878   1]\n",
            " [311   8]]\n",
            "# of features: 26448\n",
            "sample of features: ['قبرها', 'تشاءمىه', 'لعىاله', 'بتفكر', 'حرج', 'ىخفى', 'للمصداقىه', 'فخرى', 'الكرىمه', 'ىقولون', 'الىس', 'شف', 'الدمام', 'فبلاش', 'اغضب', 'اهدافه', 'نقاط', 'تعرفىن', 'الجامع', 'الكوىت', 'وىقومه', 'GPKq', 'نتناقش', 'ااابداع', 'زىوس', 'مصر', 'تناقضت', 'وكرام', 'اشهر', 'مىنا', 'معتزلىا', 'بالحضاره', 'ارضكم', 'لقواتناالجنوبىه', 'ساحبه', 'اقلىات', 'خىروه', 'ترحىل', 'تصرفاتهم', 'واحزاب']\n",
            "parameters\n",
            "classifier: SGDClassifier\n",
            "------------------------------------\n",
            "              precision    recall  f1-score   support\n",
            "\n",
            "           0       0.84      0.91      0.87       879\n",
            "           1       0.67      0.52      0.59       319\n",
            "\n",
            "    accuracy                           0.80      1198\n",
            "   macro avg       0.76      0.72      0.73      1198\n",
            "weighted avg       0.79      0.80      0.80      1198\n",
            "\n",
            "[[797  82]\n",
            " [152 167]]\n",
            "# of features: 26448\n",
            "sample of features: ['جعلتنا', 'باله', 'mi', 'الحاقه', 'ىااارب', 'الثالث', 'احوالنا', 'للتقارب', 'لاتناشد', 'مختفون', 'ومعلمه', 'كالورد', 'ورغبه', 'شفتك', 'جوهر', 'المحبطون', 'بوحل', 'الافقىه', 'المقاومه', 'وىواصل', 'ومءسف', 'باراءهم', 'جذى', 'الاستنتاجات', 'فكنت', 'عرضت', 'وحىاتهم', 'العامله', 'مخباه', 'تمىز', 'نشىل', 'شرفها', 'للبخارى', 'فاروق', 'ىسورى', 'بالمال', 'ظلمه', 'ىومك', 'استراتىجى', 'المدعى']\n",
            "parameters\n",
            "classifier: DecisionTreeClassifier\n",
            "------------------------------------\n"
          ]
        },
        {
          "output_type": "stream",
          "name": "stderr",
          "text": [
            "/usr/local/lib/python3.8/dist-packages/sklearn/utils/deprecation.py:87: FutureWarning: Function get_feature_names is deprecated; get_feature_names is deprecated in 1.0 and will be removed in 1.2. Please use get_feature_names_out instead.\n",
            "  warnings.warn(msg, category=FutureWarning)\n",
            "/usr/local/lib/python3.8/dist-packages/sklearn/utils/deprecation.py:87: FutureWarning: Function get_feature_names is deprecated; get_feature_names is deprecated in 1.0 and will be removed in 1.2. Please use get_feature_names_out instead.\n",
            "  warnings.warn(msg, category=FutureWarning)\n",
            "/usr/local/lib/python3.8/dist-packages/sklearn/utils/deprecation.py:87: FutureWarning: Function get_feature_names is deprecated; get_feature_names is deprecated in 1.0 and will be removed in 1.2. Please use get_feature_names_out instead.\n",
            "  warnings.warn(msg, category=FutureWarning)\n"
          ]
        },
        {
          "output_type": "stream",
          "name": "stdout",
          "text": [
            "              precision    recall  f1-score   support\n",
            "\n",
            "           0       0.78      0.95      0.86       879\n",
            "           1       0.65      0.29      0.40       319\n",
            "\n",
            "    accuracy                           0.77      1198\n",
            "   macro avg       0.72      0.62      0.63      1198\n",
            "weighted avg       0.75      0.77      0.74      1198\n",
            "\n",
            "[[831  48]\n",
            " [228  91]]\n",
            "# of features: 26448\n",
            "sample of features: ['الوقح', 'الحوجازىه', 'نهى', 'عد', 'بمحاضره', 'حاىسكم', 'نفخ', 'رصد', 'وقنابل', 'تاخذنى', 'الومكم', 'وفانا', 'ضدهم', 'MLkRV', 'للشعر', 'الشكروالتقدىرللمعلمات', 'تنفىذ', 'بالدىانه', 'اذونا', 'صحوه', 'وحج', 'اقتصادها', 'فقره', 'بداهىه', 'المسىطرىن', 'الممدوده', 'والحوثىىن', 'والكوفه', 'فلوسك', 'وحشمتها', 'رقبته', 'بنوه', 'تدمىر', 'برق', 'المىلاد', 'وثقافات', 'وتنبذ', 'ىنتهون', 'ومشاهد', 'باشكال']\n",
            "parameters\n",
            "classifier: RandomForestClassifier\n",
            "------------------------------------\n",
            "              precision    recall  f1-score   support\n",
            "\n",
            "           0       0.73      1.00      0.85       879\n",
            "           1       0.00      0.00      0.00       319\n",
            "\n",
            "    accuracy                           0.73      1198\n",
            "   macro avg       0.37      0.50      0.42      1198\n",
            "weighted avg       0.54      0.73      0.62      1198\n",
            "\n",
            "[[879   0]\n",
            " [319   0]]\n",
            "# of features: 26448\n",
            "sample of features: ['بلاخره', 'الدعوىه', 'السىل', 'وسحر', 'ماىبطنون', 'اظن', 'ممىز', 'لاعبا', 'البرىكان', 'والنهب', 'والفزع', 'غىرو', 'والحرمه', 'وتسببت', 'تخصهم', 'مشاكلكم', 'ترتوت', 'اتخلى', 'GzIorrSVo', 'رفىع', 'ىفرض', 'وىحتاجك', 'نىته', 'نزح', 'وفورا', 'ىشمتوا', 'التكرىم', 'عواىل', 'الجاىه', 'بطنه', 'وكثىر', 'تبث', 'وىنفصل', 'جدانا', 'الاواخر', 'jEB', 'انتقاده', 'ttNJLumA', 'الطواءف', 'الشىخ']\n"
          ]
        },
        {
          "output_type": "stream",
          "name": "stderr",
          "text": [
            "/usr/local/lib/python3.8/dist-packages/sklearn/metrics/_classification.py:1318: UndefinedMetricWarning: Precision and F-score are ill-defined and being set to 0.0 in labels with no predicted samples. Use `zero_division` parameter to control this behavior.\n",
            "  _warn_prf(average, modifier, msg_start, len(result))\n",
            "/usr/local/lib/python3.8/dist-packages/sklearn/metrics/_classification.py:1318: UndefinedMetricWarning: Precision and F-score are ill-defined and being set to 0.0 in labels with no predicted samples. Use `zero_division` parameter to control this behavior.\n",
            "  _warn_prf(average, modifier, msg_start, len(result))\n",
            "/usr/local/lib/python3.8/dist-packages/sklearn/metrics/_classification.py:1318: UndefinedMetricWarning: Precision and F-score are ill-defined and being set to 0.0 in labels with no predicted samples. Use `zero_division` parameter to control this behavior.\n",
            "  _warn_prf(average, modifier, msg_start, len(result))\n",
            "/usr/local/lib/python3.8/dist-packages/sklearn/metrics/_classification.py:1318: UndefinedMetricWarning: Precision is ill-defined and being set to 0.0 in labels with no predicted samples. Use `zero_division` parameter to control this behavior.\n",
            "  _warn_prf(average, modifier, msg_start, len(result))\n",
            "/usr/local/lib/python3.8/dist-packages/sklearn/utils/deprecation.py:87: FutureWarning: Function get_feature_names is deprecated; get_feature_names is deprecated in 1.0 and will be removed in 1.2. Please use get_feature_names_out instead.\n",
            "  warnings.warn(msg, category=FutureWarning)\n"
          ]
        },
        {
          "output_type": "stream",
          "name": "stdout",
          "text": [
            "parameters\n",
            "classifier: KNeighborsClassifier\n",
            "------------------------------------\n",
            "              precision    recall  f1-score   support\n",
            "\n",
            "           0       0.74      1.00      0.85       879\n",
            "           1       1.00      0.02      0.04       319\n",
            "\n",
            "    accuracy                           0.74      1198\n",
            "   macro avg       0.87      0.51      0.45      1198\n",
            "weighted avg       0.81      0.74      0.63      1198\n",
            "\n",
            "[[879   0]\n",
            " [312   7]]\n",
            "# of features: 26448\n",
            "sample of features: ['ىضحك', 'الشىطانىه', 'وبلادهم', 'سىعجبها', 'RSvCDFOVD', 'رقىب', 'وتكفى', 'PonH', 'العش', 'نفذتها', 'برىطانىه', 'والدلىل', 'للوطن', 'وتنسب', 'جولته', 'تكن', 'وجمالها', 'وىقضى', 'تءسس', 'الاجانب', 'التكرار', 'برواىه', 'واجب', 'خلتنا', 'بالحلم', 'ىنصت', 'الاصغاء', 'واعداد', 'وعمل', 'نهابه', 'وحىد', 'البلدالامىن', 'احدثته', 'الاسءله', 'فبهت', 'وسىدعم', 'النخوه', 'لىخرج', 'باته', 'yAPrJ']\n",
            "parameters\n",
            "classifier: LogisticRegression\n",
            "------------------------------------\n",
            "              precision    recall  f1-score   support\n",
            "\n",
            "           0       0.75      0.99      0.85       879\n",
            "           1       0.76      0.09      0.16       319\n",
            "\n",
            "    accuracy                           0.75      1198\n",
            "   macro avg       0.75      0.54      0.51      1198\n",
            "weighted avg       0.75      0.75      0.67      1198\n",
            "\n",
            "[[870   9]\n",
            " [291  28]]\n",
            "# of features: 26448\n",
            "sample of features: ['بتشوه', 'وسعاده', 'واشوفك', 'وسماحه', 'وسلمان', 'حبىسه', 'نسىو', 'تشكىله', 'حررتوا', 'لنهم', 'جسد', 'سالته', 'ننقل', 'كذبته', 'لاىكات', 'وحدىقه', 'الدوىله', 'ناضجا', 'خدمات', 'الوازع', 'استهدفت', 'شواردها', 'المواد', 'فلنتفكر', 'جبت', 'ىجزى', 'فخوره', 'والمالكىه', 'RjMF', 'ونلاحظ', 'الاخىره', 'بالسلفىه', 'شءت', 'ىتثبت', 'وبهتانا', 'مقبره', 'الارتفاع', 'اشتكى', 'لمجلس', 'بفضل']\n"
          ]
        },
        {
          "output_type": "stream",
          "name": "stderr",
          "text": [
            "/usr/local/lib/python3.8/dist-packages/sklearn/utils/deprecation.py:87: FutureWarning: Function get_feature_names is deprecated; get_feature_names is deprecated in 1.0 and will be removed in 1.2. Please use get_feature_names_out instead.\n",
            "  warnings.warn(msg, category=FutureWarning)\n"
          ]
        }
      ]
    },
    {
      "cell_type": "markdown",
      "source": [
        "# RESULTS"
      ],
      "metadata": {
        "id": "0unIEePonczf"
      }
    },
    {
      "cell_type": "code",
      "source": [
        "print('{0:25}{1:>10}{2:>10}{3:>10}{4:>10}'.format('algorithm', 'accuracy', 'precision', 'recall', 'F1-score'))\n",
        "print('---------------------------------------------------------------------------')\n",
        "for r in results:\n",
        "    print('{0:25}{1:10.2f}{2:10.2f}{3:10.2f}{4:10.2f}'.format(r[0], r[1], r[2], r[3], r[4]))"
      ],
      "metadata": {
        "colab": {
          "base_uri": "https://localhost:8080/"
        },
        "id": "rjNIQbll9wWz",
        "outputId": "dc4d887b-a59d-4ed0-e71e-dded695d6b83"
      },
      "execution_count": null,
      "outputs": [
        {
          "output_type": "stream",
          "name": "stdout",
          "text": [
            "algorithm                  accuracy precision    recall  F1-score\n",
            "---------------------------------------------------------------------------\n",
            "LinearSVC                      0.81      0.80      0.81      0.80\n",
            "SVC                            0.75      0.76      0.75      0.67\n",
            "MultinomialNB                  0.74      0.81      0.74      0.63\n",
            "BernoulliNB                    0.74      0.78      0.74      0.64\n",
            "SGDClassifier                  0.80      0.79      0.80      0.80\n",
            "DecisionTreeClassifier         0.77      0.75      0.77      0.74\n",
            "RandomForestClassifier         0.73      0.54      0.73      0.62\n",
            "KNeighborsClassifier           0.74      0.81      0.74      0.63\n",
            "LogisticRegression             0.75      0.75      0.75      0.67\n"
          ]
        }
      ]
    }
  ]
}